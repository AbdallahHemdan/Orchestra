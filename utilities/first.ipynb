{
 "cells": [
  {
   "cell_type": "code",
   "execution_count": 1,
   "metadata": {},
   "outputs": [],
   "source": [
    "from classifier import *\n",
    "from preprocessing import *\n",
    "from staff_line_removal import *"
   ]
  },
  {
   "cell_type": "code",
   "execution_count": 2,
   "metadata": {},
   "outputs": [],
   "source": [
    "preprocess the image\n",
    "img = cv2.imread('sample.png', 0)\n",
    "binarized = 255 - binarize(img, 'cv_adaptive')\n",
    "io.imsave('binarized.png', binarized)\n",
    "cleaned = staff_removal(img)\n",
    "segmented, symbols = segmentation(cleaned)"
   ]
  },
  {
   "cell_type": "code",
   "execution_count": 3,
   "metadata": {},
   "outputs": [],
   "source": [
    "print('Loading dataset. This will take time ...')\n",
    "features, labels = load_dataset('hog')\n",
    "print('Finished loading dataset.')\n",
    "\n",
    "train_features, test_features, train_labels, test_labels = train_test_split(\n",
    "    features, labels, test_size=0.2, random_state=random_seed)"
   ]
  },
  {
   "cell_type": "code",
   "execution_count": 4,
   "metadata": {},
   "outputs": [],
   "source": [
    "svm = classifiers['SVM']\n",
    "svm.fit(train_features, train_labels)\n",
    "accuracy = svm.score(test_features, test_labels)\n",
    "print('SVM ', 'accuracy:', accuracy*100, '%')"
   ]
  },
  {
   "cell_type": "code",
   "execution_count": 5,
   "metadata": {},
   "outputs": [],
   "source": [
    "img = cv2.imread('lol.png', 0)\n",
    "binarized = binarize(img, 'cv_adaptive')\n",
    "feature = extract_features(img, 'hog')\n",
    "print(feature)\n",
    "print(svm.predict([feature]))\n",
    "io.imshow(img)\n",
    "io.show()"
   ]
  },
  {
   "cell_type": "code",
   "execution_count": 6,
   "metadata": {},
   "outputs": [],
   "source": [
    "img = cv2.imread('test.png', 0)\n",
    "img = cv2.fastNlMeansDenoising(img, None, 10, 7, 21)\n",
    "cv2.imwrite('n_noised_removed.png', img)\n",
    "\n",
    "threshold, img = cv2.threshold(img, 0, 255, cv2.THRESH_BINARY+cv2.THRESH_OTSU)\n",
    "cv2.imwrite('n_binarized.png', img)\n",
    "print(threshold)\n",
    "\n",
    "angle, output = fix_rotation(img)\n",
    "io.imsave('n_fixed_rotation.png', output)\n",
    "print(angle)\n",
    "\n",
    "line_width, line_spacing = get_ref_lengths(img)\n",
    "print(\"[INFO] Staff line Width: \", line_width)\n",
    "print(\"[INFO] Staff line Spacing: \", line_spacing)\n",
    "\n",
    "\n",
    "all_staffline_vertical_indices = find_staffline_rows(img, line_width, line_spacing)\n",
    "print(\"[INFO] Found \", len(all_staffline_vertical_indices), \" sets of staff lines\")\n",
    "\n",
    "all_staffline_horizontal_indices = find_staffline_columns(img, all_staffline_vertical_indices, line_width, line_spacing)\n",
    "print(\"[INFO] Found all staff line horizontal extremes\")\n",
    "\n",
    "cv2.imwrite('output/before.jpg',img)\n",
    "edges = cv2.Canny(img,50,150,apertureSize = 3)\n",
    "\n",
    "lines = cv2.HoughLines(edges,1,np.pi/180,200)\n",
    "for rho,theta in lines[0]:\n",
    "    a = np.cos(theta)\n",
    "    b = np.sin(theta)\n",
    "    x0 = a*rho\n",
    "    y0 = b*rho\n",
    "    x1 = int(x0 + 1000*(-b))\n",
    "    y1 = int(y0 + 1000*(a))\n",
    "    x2 = int(x0 - 1000*(-b))\n",
    "    y2 = int(y0 - 1000*(a))\n",
    "    print(x1, y1, x2, y2)\n",
    "    cv2.line(img,(x1,y1),(x2,y2),(0,0,255),2)\n",
    "\n",
    "cv2.imwrite('output/after.jpg',img)"
   ]
  },
  {
   "cell_type": "code",
   "execution_count": 7,
   "metadata": {},
   "outputs": [],
   "source": [
    "for symbol in symbols:\n",
    "    feature = extract_features(symbol, 'hog')\n",
    "    print(feature)\n",
    "    print(svm.predict([feature]))\n",
    "    io.imshow(symbol)\n",
    "    io.show()"
   ]
  }
 ],
 "metadata": {
  "kernelspec": {
   "display_name": "Python 3",
   "language": "python",
   "name": "python3"
  },
  "language_info": {
   "codemirror_mode": {
    "name": "ipython",
    "version": 3
   },
   "file_extension": ".py",
   "mimetype": "text/x-python",
   "name": "python",
   "nbconvert_exporter": "python",
   "pygments_lexer": "ipython3",
   "version": "3.8.3"
  }
 },
 "nbformat": 4,
 "nbformat_minor": 4
}
