{
 "metadata": {
  "language_info": {
   "codemirror_mode": {
    "name": "ipython",
    "version": 3
   },
   "file_extension": ".py",
   "mimetype": "text/x-python",
   "name": "python",
   "nbconvert_exporter": "python",
   "pygments_lexer": "ipython3",
   "version": "3.6.12-final"
  },
  "orig_nbformat": 2,
  "kernelspec": {
   "name": "python3",
   "display_name": "Python 3",
   "language": "python"
  }
 },
 "nbformat": 4,
 "nbformat_minor": 2,
 "cells": [
  {
   "cell_type": "code",
   "execution_count": 70,
   "metadata": {},
   "outputs": [],
   "source": [
    "from commonfunctions import *\n",
    "import numpy as np\n",
    "from numpy.linalg import norm\n",
    "from skimage.filters import *\n",
    "import matplotlib.pyplot as plt\n",
    "from scipy.signal import find_peaks\n",
    "import cv2 as cv \n",
    "import os\n",
    "import time"
   ]
  },
  {
   "cell_type": "code",
   "execution_count": 73,
   "metadata": {},
   "outputs": [
    {
     "output_type": "stream",
     "name": "stdout",
     "text": [
      "ok\nok\nok\nok\n1200\n[0 0 0 ... 0 0 0]\n"
     ]
    }
   ],
   "source": [
    "def binarize(img, method):\n",
    "    if len(img.shape) > 2 :\n",
    "        img = rgb2gray(img)\n",
    "    if method == 'skimage_local':\n",
    "        return img >= threshold_local(img, 31, offset=3)\n",
    "    if method == 'skimage_sauvola':\n",
    "        return img >= threshold_sauvola(img, 31)\n",
    "    if method == 'cv_adaptive':\n",
    "        return cv.adaptiveThreshold(img,255,cv.ADAPTIVE_THRESH_GAUSSIAN_C,cv.THRESH_BINARY_INV,41,10)\n",
    "\n",
    "img = cv.imread(\"input/\" + \"straight.jpg\", 0)\n",
    "imgcopy = img.copy()\n",
    "img_b = binarize(img, \"cv_adaptive\")\n",
    "img = cv.dilate(img_b, cv.getStructuringElement(cv.MORPH_ELLIPSE,(20,20)))\n",
    "\n",
    "contours, _ = cv.findContours(img, cv.RETR_LIST, cv.CHAIN_APPROX_SIMPLE)\n",
    "mask = np.ones((img.shape[0] , img.shape[1]), dtype=\"uint8\") *255\n",
    "contours = sorted(contours, key=cv.contourArea)\n",
    "\n",
    "\n",
    "\n",
    "for i in range(len(contours)-1):\n",
    "        print('ok')\n",
    "        cv.drawContours(mask, [contours[i]], -1, 0, -1)\n",
    "\n",
    "\n",
    "img = cv.bitwise_and(img, img, mask=mask)\n",
    "\n",
    "img = cv.erode(img, cv.getStructuringElement(cv.MORPH_ELLIPSE,(20,20)))\n",
    "cv.imwrite('out2.png', img)\n",
    "\n",
    "mid = img.shape[1] // 2\n",
    "mid_col = img[:,mid]\n",
    "\n",
    "peaks = find_peaks(mid_col , 0)\n",
    "\n"
   ]
  },
  {
   "cell_type": "code",
   "execution_count": null,
   "metadata": {},
   "outputs": [],
   "source": []
  }
 ]
}