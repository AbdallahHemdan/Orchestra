{
 "metadata": {
  "language_info": {
   "codemirror_mode": {
    "name": "ipython",
    "version": 3
   },
   "file_extension": ".py",
   "mimetype": "text/x-python",
   "name": "python",
   "nbconvert_exporter": "python",
   "pygments_lexer": "ipython3",
   "version": "3.8.5-final"
  },
  "orig_nbformat": 2,
  "kernelspec": {
   "name": "python3",
   "display_name": "Python 3",
   "language": "python"
  }
 },
 "nbformat": 4,
 "nbformat_minor": 2,
 "cells": [
  {
   "cell_type": "code",
   "execution_count": 4,
   "metadata": {},
   "outputs": [],
   "source": [
    "from commonfunctions import *\n",
    "import numpy as np\n",
    "import skimage.io as io\n",
    "from skimage.exposure import equalize_hist\n",
    "from skimage.filters import *\n",
    "from skimage.measure import find_contours\n",
    "from skimage.morphology import *\n",
    "from skimage.transform import *\n",
    "from skimage.util import *\n",
    "from skimage import data\n",
    "import matplotlib.pyplot as plt\n",
    "import os\n"
   ]
  },
  {
   "cell_type": "code",
   "execution_count": 5,
   "metadata": {},
   "outputs": [],
   "source": [
    "def binarize(img):\n",
    "    if len(img.shape) > 2 :\n",
    "        img = (rgb2gray(img)*255).astype(\"uint8\")\n",
    "    #thresh_local = threshold_local(img, 31, offset=3)\n",
    "    thresh_sauvola = threshold_sauvola(img, 31)\n",
    "    return img >= thresh_sauvola\n",
    "\n",
    "def get_rotation_angle(img):\n",
    "    # using hough transform to measure the angle\n",
    "    img = invert(img)\n",
    "    tested_angles = np.linspace(-np.pi / 2, np.pi / 2, 360)\n",
    "    h, theta, d = hough_line(img, theta=tested_angles)\n",
    "    ind = np.unravel_index(np.argmax(h, axis=None), h.shape)\n",
    "    degree = np.rad2deg(theta[ind[1]])\n",
    "    return degree\n",
    "\n",
    "def fix_rotation(img, angle):\n",
    "    if angle > 0:\n",
    "        img = rotate(img, -(90-angle))\n",
    "    else:\n",
    "        img = rotate(img, 90 - abs(angle))\n",
    "    return img\n"
   ]
  },
  {
   "cell_type": "code",
   "execution_count": 9,
   "metadata": {},
   "outputs": [
    {
     "output_type": "error",
     "ename": "TypeError",
     "evalue": "binarize() takes 1 positional argument but 2 were given",
     "traceback": [
      "\u001b[1;31m---------------------------------------------------------------------------\u001b[0m",
      "\u001b[1;31mTypeError\u001b[0m                                 Traceback (most recent call last)",
      "\u001b[1;32m<ipython-input-9-0b5c33d5cd7a>\u001b[0m in \u001b[0;36m<module>\u001b[1;34m\u001b[0m\n\u001b[0;32m      2\u001b[0m \u001b[0moutput_imgs\u001b[0m \u001b[1;33m=\u001b[0m \u001b[1;33m[\u001b[0m\u001b[1;33m]\u001b[0m\u001b[1;33m\u001b[0m\u001b[1;33m\u001b[0m\u001b[0m\n\u001b[0;32m      3\u001b[0m \u001b[0mtemp\u001b[0m \u001b[1;33m=\u001b[0m \u001b[0mio\u001b[0m\u001b[1;33m.\u001b[0m\u001b[0mimread\u001b[0m\u001b[1;33m(\u001b[0m\u001b[1;34m\"input/handwritted2.png\"\u001b[0m\u001b[1;33m)\u001b[0m\u001b[1;33m\u001b[0m\u001b[1;33m\u001b[0m\u001b[0m\n\u001b[1;32m----> 4\u001b[1;33m \u001b[0mtemp\u001b[0m  \u001b[1;33m=\u001b[0m \u001b[0mbinarize\u001b[0m\u001b[1;33m(\u001b[0m\u001b[1;33m[\u001b[0m\u001b[0mimg\u001b[0m\u001b[1;33m]\u001b[0m \u001b[1;33m,\u001b[0m \u001b[1;33m[\u001b[0m\u001b[1;34m\"temp\"\u001b[0m\u001b[1;33m]\u001b[0m\u001b[1;33m)\u001b[0m\u001b[1;33m\u001b[0m\u001b[1;33m\u001b[0m\u001b[0m\n\u001b[0m\u001b[0;32m      5\u001b[0m \u001b[0mshow_images\u001b[0m\u001b[1;33m(\u001b[0m\u001b[0mtemp\u001b[0m\u001b[1;33m)\u001b[0m\u001b[1;33m\u001b[0m\u001b[1;33m\u001b[0m\u001b[0m\n\u001b[0;32m      6\u001b[0m \u001b[1;32mfor\u001b[0m \u001b[0mfilename\u001b[0m \u001b[1;32min\u001b[0m \u001b[0mos\u001b[0m\u001b[1;33m.\u001b[0m\u001b[0mlistdir\u001b[0m\u001b[1;33m(\u001b[0m\u001b[1;34m\"input\"\u001b[0m\u001b[1;33m)\u001b[0m\u001b[1;33m:\u001b[0m\u001b[1;33m\u001b[0m\u001b[1;33m\u001b[0m\u001b[0m\n",
      "\u001b[1;31mTypeError\u001b[0m: binarize() takes 1 positional argument but 2 were given"
     ]
    }
   ],
   "source": [
    "input_imgs = []\n",
    "output_imgs = []\n",
    "temp = io.imread(\"input/handwritted2.png\")\n",
    "temp  = binarize([img] , [\"temp\"])\n",
    "show_images(temp)\n",
    "for filename in os.listdir(\"input\"):\n",
    "    img = io.imread(\"input/\" + filename)\n",
    "    input_imgs.append(img)\n",
    "    img = binarize(img)\n",
    "    img = fix_rotation(img, get_rotation_angle(img))\n",
    "    io.imsave(\"output/\" + os.path.splitext(filename)[0] + \".png\", img)\n",
    "    output_imgs.append(img)\n",
    "\n",
    "show_images(input_imgs)\n",
    "show_images(output_imgs)"
   ]
  },
  {
   "cell_type": "code",
   "execution_count": null,
   "metadata": {},
   "outputs": [],
   "source": []
  }
 ]
}