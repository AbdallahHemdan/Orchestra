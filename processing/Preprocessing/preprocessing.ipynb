{
 "cells": [
  {
   "cell_type": "code",
   "execution_count": 7,
   "metadata": {},
   "outputs": [],
   "source": [
    "from commonfunctions import *\n",
    "import numpy as np\n",
    "from numpy.linalg import norm\n",
    "from skimage.filters import *\n",
    "import matplotlib.pyplot as plt\n",
    "import cv2 as cv \n",
    "import os\n",
    "import time"
   ]
  },
  {
   "cell_type": "code",
   "execution_count": 11,
   "metadata": {},
   "outputs": [],
   "source": [
    "def binarize(img, method):\n",
    "    if method == 'skimage_local':\n",
    "        return img >= threshold_local(img, 31, offset=3)\n",
    "    if method == 'skimage_sauvola':\n",
    "        return img >= threshold_sauvola(img, 31)\n",
    "    if method == 'cv_adaptive':\n",
    "        return cv.adaptiveThreshold(img,255,cv.ADAPTIVE_THRESH_GAUSSIAN_C,cv.THRESH_BINARY_INV,41,10)\n",
    "\n",
    "def get_staff_corners(img, contour): #this function doens't work well, it needs a different implementation\n",
    "    image_corners = np.array([[0, 0], [img.shape[1], 0], [0, img.shape[0]], [img.shape[1], img.shape[0]]])\n",
    "    staff_corners = np.zeros((4,2))\n",
    "\n",
    "    staff_corners[0] = max(contour, key=lambda point:norm(point[0] - image_corners[3]))\n",
    "    staff_corners[1] = max(contour, key=lambda point:norm(point[0] - image_corners[2]))\n",
    "    staff_corners[2] = max(contour, key=lambda point:norm(point[0] - image_corners[1]))\n",
    "    staff_corners[3] = max(contour, key=lambda point:norm(point[0] - image_corners[0]))\n",
    "    return staff_corners\n",
    "\n",
    "def project(img, corners): \n",
    "    wdith = min(norm(corners[0] - corners[1]), norm(corners[2] - corners[3]))\n",
    "    height = max(norm(corners[0] - corners[2]), norm(corners[1] - corners[3]))\n",
    "    \n",
    "    src = np.array([[0, 0], [wdith, 0], [0, height], [wdith, height]], np.float32)\n",
    "    corners = corners.astype(\"float32\")\n",
    "\n",
    "    h = cv.getPerspectiveTransform(corners, src)\n",
    "    return cv.warpPerspective(img, h, (int(wdith), int(height)))\n",
    "\n",
    "\n",
    "def fix_projection(image_binary, image_grayscale):\n",
    "    #adding extra padding\n",
    "    image_binary = np.pad(image_binary, 20, 'constant', constant_values=0)\n",
    "    image_grayscale = np.pad(image_grayscale, 20, 'constant', constant_values=0)\n",
    "\n",
    "    img = cv.dilate(image_binary, cv.getStructuringElement(cv.MORPH_ELLIPSE,(20,20)))\n",
    "\n",
    "    contours, _ = cv.findContours(img, cv.RETR_LIST, cv.CHAIN_APPROX_SIMPLE); \n",
    "    largest_contour = max(contours, key = cv.contourArea)#key = lambda cnt : cv.arcLength(cnt, False))\n",
    "\n",
    "    hull = cv.convexHull(largest_contour); \n",
    "\n",
    "    staff_corners = get_staff_corners(img, hull)\n",
    "\n",
    "    # ----plotting----\n",
    "    fig, ax = plt.subplots()\n",
    "    ax.imshow(img, cmap=plt.cm.gray)\n",
    "    ax.plot(largest_contour[:, :, 0], largest_contour[:, :, 1], linewidth=2, c='g')\n",
    "    #for cnt in contours:\n",
    "    #    ax.plot(cnt[:, :, 0], cnt[:, :, 1], linewidth=1, c='g')\n",
    "    ax.plot(hull[:, :, 0], hull[:, :, 1], linewidth=1, c=\"b\")\n",
    "    ax.scatter(staff_corners[:, 0], staff_corners[:, 1], linewidth=1, c=\"r\")\n",
    "    # ----------------\n",
    "\n",
    "    img = project(image_grayscale, staff_corners);  \n",
    "    img = unsharp_mask(img) #sharpening the image after projection improves later binarization\n",
    "    return img\n",
    "\n",
    "def display(img):\n",
    "    cv.namedWindow('image',cv.WINDOW_NORMAL)\n",
    "    cv.resizeWindow('image', 1920, 1080)\n",
    "    cv.imshow('image', img)\n",
    "    cv.waitKey()"
   ]
  },
  {
   "cell_type": "code",
   "execution_count": 13,
   "metadata": {
    "tags": []
   },
   "outputs": [
    {
     "ename": "TypeError",
     "evalue": "Expected cv::UMat for argument 'src'",
     "output_type": "error",
     "traceback": [
      "\u001b[1;31m---------------------------------------------------------------------------\u001b[0m",
      "\u001b[1;31mTypeError\u001b[0m                                 Traceback (most recent call last)",
      "\u001b[1;32m<ipython-input-13-8c95663caf64>\u001b[0m in \u001b[0;36m<module>\u001b[1;34m\u001b[0m\n\u001b[0;32m      1\u001b[0m \u001b[0mimg\u001b[0m \u001b[1;33m=\u001b[0m \u001b[0mcv\u001b[0m\u001b[1;33m.\u001b[0m\u001b[0mimread\u001b[0m\u001b[1;33m(\u001b[0m\u001b[1;34m\"input/\"\u001b[0m \u001b[1;33m+\u001b[0m \u001b[1;34m\"23.jpg\"\u001b[0m\u001b[1;33m,\u001b[0m \u001b[1;36m0\u001b[0m\u001b[1;33m)\u001b[0m\u001b[1;33m\u001b[0m\u001b[1;33m\u001b[0m\u001b[0m\n\u001b[0;32m      2\u001b[0m \u001b[0mthreshold\u001b[0m\u001b[1;33m,\u001b[0m \u001b[0mimg_b\u001b[0m \u001b[1;33m=\u001b[0m \u001b[0mcv\u001b[0m\u001b[1;33m.\u001b[0m\u001b[0mthreshold\u001b[0m\u001b[1;33m(\u001b[0m\u001b[0mimg\u001b[0m\u001b[1;33m,\u001b[0m \u001b[1;36m0\u001b[0m\u001b[1;33m,\u001b[0m \u001b[1;36m255\u001b[0m\u001b[1;33m,\u001b[0m \u001b[0mcv\u001b[0m\u001b[1;33m.\u001b[0m\u001b[0mTHRESH_BINARY\u001b[0m\u001b[1;33m+\u001b[0m\u001b[0mcv\u001b[0m\u001b[1;33m.\u001b[0m\u001b[0mTHRESH_OTSU\u001b[0m\u001b[1;33m)\u001b[0m\u001b[1;33m\u001b[0m\u001b[1;33m\u001b[0m\u001b[0m\n\u001b[1;32m----> 3\u001b[1;33m \u001b[0mimg\u001b[0m \u001b[1;33m=\u001b[0m \u001b[0mfix_projection\u001b[0m\u001b[1;33m(\u001b[0m\u001b[0mimg_b\u001b[0m\u001b[1;33m,\u001b[0m \u001b[0mimg\u001b[0m\u001b[1;33m)\u001b[0m\u001b[1;33m\u001b[0m\u001b[1;33m\u001b[0m\u001b[0m\n\u001b[0m\u001b[0;32m      4\u001b[0m \u001b[1;33m\u001b[0m\u001b[0m\n\u001b[0;32m      5\u001b[0m \u001b[0mplt\u001b[0m\u001b[1;33m.\u001b[0m\u001b[0mshow\u001b[0m\u001b[1;33m(\u001b[0m\u001b[1;33m)\u001b[0m\u001b[1;33m\u001b[0m\u001b[1;33m\u001b[0m\u001b[0m\n",
      "\u001b[1;32m<ipython-input-11-62afa48aea0c>\u001b[0m in \u001b[0;36mfix_projection\u001b[1;34m(image_binary, image_grayscale)\u001b[0m\n\u001b[0;32m     33\u001b[0m     \u001b[0mimage_grayscale\u001b[0m \u001b[1;33m=\u001b[0m \u001b[0mnp\u001b[0m\u001b[1;33m.\u001b[0m\u001b[0mpad\u001b[0m\u001b[1;33m(\u001b[0m\u001b[0mimage_grayscale\u001b[0m\u001b[1;33m,\u001b[0m \u001b[1;36m20\u001b[0m\u001b[1;33m,\u001b[0m \u001b[1;34m'constant'\u001b[0m\u001b[1;33m,\u001b[0m \u001b[0mconstant_values\u001b[0m\u001b[1;33m=\u001b[0m\u001b[1;36m0\u001b[0m\u001b[1;33m)\u001b[0m\u001b[1;33m\u001b[0m\u001b[1;33m\u001b[0m\u001b[0m\n\u001b[0;32m     34\u001b[0m \u001b[1;33m\u001b[0m\u001b[0m\n\u001b[1;32m---> 35\u001b[1;33m     \u001b[0mimg\u001b[0m \u001b[1;33m=\u001b[0m \u001b[0mcv\u001b[0m\u001b[1;33m.\u001b[0m\u001b[0mdilate\u001b[0m\u001b[1;33m(\u001b[0m\u001b[0mimage_binary\u001b[0m\u001b[1;33m,\u001b[0m \u001b[0mcv\u001b[0m\u001b[1;33m.\u001b[0m\u001b[0mgetStructuringElement\u001b[0m\u001b[1;33m(\u001b[0m\u001b[0mcv\u001b[0m\u001b[1;33m.\u001b[0m\u001b[0mMORPH_ELLIPSE\u001b[0m\u001b[1;33m,\u001b[0m\u001b[1;33m(\u001b[0m\u001b[1;36m20\u001b[0m\u001b[1;33m,\u001b[0m\u001b[1;36m20\u001b[0m\u001b[1;33m)\u001b[0m\u001b[1;33m)\u001b[0m\u001b[1;33m)\u001b[0m\u001b[1;33m\u001b[0m\u001b[1;33m\u001b[0m\u001b[0m\n\u001b[0m\u001b[0;32m     36\u001b[0m \u001b[1;33m\u001b[0m\u001b[0m\n\u001b[0;32m     37\u001b[0m     \u001b[0mcontours\u001b[0m\u001b[1;33m,\u001b[0m \u001b[0m_\u001b[0m \u001b[1;33m=\u001b[0m \u001b[0mcv\u001b[0m\u001b[1;33m.\u001b[0m\u001b[0mfindContours\u001b[0m\u001b[1;33m(\u001b[0m\u001b[0mimg\u001b[0m\u001b[1;33m,\u001b[0m \u001b[0mcv\u001b[0m\u001b[1;33m.\u001b[0m\u001b[0mRETR_LIST\u001b[0m\u001b[1;33m,\u001b[0m \u001b[0mcv\u001b[0m\u001b[1;33m.\u001b[0m\u001b[0mCHAIN_APPROX_SIMPLE\u001b[0m\u001b[1;33m)\u001b[0m\u001b[1;33m;\u001b[0m\u001b[1;33m\u001b[0m\u001b[1;33m\u001b[0m\u001b[0m\n",
      "\u001b[1;31mTypeError\u001b[0m: Expected cv::UMat for argument 'src'"
     ]
    }
   ],
   "source": [
    "img = cv.imread(\"input/\" + \"23.jpg\", 0)\n",
    "threshold, img_b = cv.threshold(img, 0, 255, cv.THRESH_BINARY+cv.THRESH_OTSU)\n",
    "img = fix_projection(img_b, img)\n",
    "\n",
    "plt.show()\n",
    "plt.imshow(img, cmap=plt.cm.gray)\n",
    "io.imsave(\"output.jpg\", img)"
   ]
  },
  {
   "cell_type": "code",
   "execution_count": null,
   "metadata": {},
   "outputs": [],
   "source": []
  }
 ],
 "metadata": {
  "kernelspec": {
   "display_name": "Python 3",
   "language": "python",
   "name": "python3"
  },
  "language_info": {
   "codemirror_mode": {
    "name": "ipython",
    "version": 3
   },
   "file_extension": ".py",
   "mimetype": "text/x-python",
   "name": "python",
   "nbconvert_exporter": "python",
   "pygments_lexer": "ipython3",
   "version": "3.8.3"
  }
 },
 "nbformat": 4,
 "nbformat_minor": 2
}
