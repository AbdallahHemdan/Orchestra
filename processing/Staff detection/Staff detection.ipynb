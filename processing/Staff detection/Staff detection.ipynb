{
 "cells": [
  {
   "cell_type": "code",
   "execution_count": 1,
   "metadata": {},
   "outputs": [],
   "source": [
    "import cv2\n",
    "import numpy as np\n",
    "import skimage.io as io\n",
    "from skimage.filters import threshold_otsu\n",
    "from skimage import feature"
   ]
  },
  {
   "cell_type": "code",
   "execution_count": 2,
   "metadata": {},
   "outputs": [],
   "source": [
    "def dilation(img, f):\n",
    "    n, m = img.shape\n",
    "    f_size = len(f)\n",
    "    copied = img.copy()\n",
    "    \n",
    "    for i in range(f_size // 2, n - f_size // 2):\n",
    "        for j in range(f_size // 2, m - f_size // 2):\n",
    "            square = copied[i - f_size // 2 : i + f_size // 2 + 1, j - f_size // 2 : j + f_size // 2 + 1]\n",
    "\n",
    "            if ((square.astype(np.bool) & f.astype(np.bool)) == f).any():\n",
    "                img[i][j] = 1\n",
    "            else:\n",
    "                img[i][j] = 0\n",
    "                \n",
    "    return img\n",
    "\n",
    "def erosion(img, f):\n",
    "    n, m = img.shape\n",
    "    f_size = len(f)\n",
    "    copied = img.copy()\n",
    "    \n",
    "    for i in range(f_size // 2, n - f_size // 2):\n",
    "        for j in range(f_size // 2, m - f_size // 2):\n",
    "            square = copied[i - f_size // 2 : i + f_size // 2 + 1, j - f_size // 2 : j + f_size // 2 + 1]\n",
    "\n",
    "            if ((square.astype(np.bool) & f.astype(np.bool)) == f).all():\n",
    "                img[i][j] = 1\n",
    "            else:\n",
    "                img[i][j] = 0\n",
    "                \n",
    "    return img\n",
    "\n",
    "def show_image(img):\n",
    "    io.imshow(img)\n",
    "    io.show()"
   ]
  },
  {
   "cell_type": "code",
   "execution_count": 3,
   "metadata": {},
   "outputs": [],
   "source": [
    "img = cv2.imread('sample2.png')\n",
    "img_copy = img.copy()\n",
    "\n",
    "gray = cv2.cvtColor(img,cv2.COLOR_BGR2GRAY)\n",
    "edges = cv2.Canny(gray, 50, 150,apertureSize = 3)\n",
    "\n",
    "lines = cv2.HoughLines(edges, 1,np.pi/180, img.shape[1]//2)\n",
    "\n",
    "thresh = threshold_otsu(gray)\n",
    "gray[gray > thresh] = 255\n",
    "gray[gray <= thresh] = 0\n",
    "\n",
    "show_image(img)\n",
    "show_image(gray)\n",
    "\n",
    "gray_copy = gray.copy()\n",
    "\n",
    "for line in lines:\n",
    "    for rho, theta in line:\n",
    "        a = np.cos(theta)\n",
    "        b = np.sin(theta)\n",
    "        x0 = a*rho\n",
    "        y0 = b*rho\n",
    "        x1 = max(int(x0 + 1000 * (-b)), 0)\n",
    "        y1 = max(int(y0 + 1000 * (a)), 0)\n",
    "        x2 = min(int(x0 - 1000 * (-b)), img.shape[1])\n",
    "        y2 = min(int(y0 - 1000 * (a)), img.shape[0])\n",
    "        \n",
    "        for y in range(y1, y2 + 1):\n",
    "            for x in range(x1, x2):\n",
    "                if (gray[y - 1: y + 1, x] == 255).sum():\n",
    "                    gray_copy[y][x] = 255\n",
    "#                     print(\"here\")\n",
    "\n",
    "        gray[y1:y2 + 1, x1:x2+1] = 255\n",
    "        \n",
    "        cv2.line(img,(x1,y1),(x2,y2),(0,0,255),2)\n",
    "\n",
    "cv2.imwrite('houghlines3.jpg',img)\n",
    "\n",
    "show_image(gray_copy)"
   ]
  },
  {
   "cell_type": "code",
   "execution_count": 6,
   "metadata": {},
   "outputs": [
    {
     "ename": "NameError",
     "evalue": "name 'f1' is not defined",
     "output_type": "error",
     "traceback": [
      "\u001b[1;31m---------------------------------------------------------------------------\u001b[0m",
      "\u001b[1;31mNameError\u001b[0m                                 Traceback (most recent call last)",
      "\u001b[1;32m<ipython-input-6-cdfdc03e7409>\u001b[0m in \u001b[0;36m<module>\u001b[1;34m\u001b[0m\n\u001b[1;32m----> 1\u001b[1;33m \u001b[0merosion\u001b[0m\u001b[1;33m(\u001b[0m\u001b[0mgray\u001b[0m\u001b[1;33m,\u001b[0m \u001b[0mf1\u001b[0m\u001b[1;33m)\u001b[0m\u001b[1;33m\u001b[0m\u001b[1;33m\u001b[0m\u001b[0m\n\u001b[0m\u001b[0;32m      2\u001b[0m \u001b[0mshow_image\u001b[0m\u001b[1;33m(\u001b[0m\u001b[0mgray\u001b[0m \u001b[1;33m*\u001b[0m \u001b[1;36m255\u001b[0m\u001b[1;33m)\u001b[0m\u001b[1;33m\u001b[0m\u001b[1;33m\u001b[0m\u001b[0m\n",
      "\u001b[1;31mNameError\u001b[0m: name 'f1' is not defined"
     ]
    }
   ],
   "source": [
    "erosion(gray, f1)\n",
    "show_image(gray * 255)"
   ]
  }
 ],
 "metadata": {
  "kernelspec": {
   "display_name": "Python 3",
   "language": "python",
   "name": "python3"
  },
  "language_info": {
   "codemirror_mode": {
    "name": "ipython",
    "version": 3
   },
   "file_extension": ".py",
   "mimetype": "text/x-python",
   "name": "python",
   "nbconvert_exporter": "python",
   "pygments_lexer": "ipython3",
   "version": "3.7.6-final"
  }
 },
 "nbformat": 4,
 "nbformat_minor": 4
}