{
 "cells": [
  {
   "cell_type": "code",
   "execution_count": 1,
   "metadata": {},
   "outputs": [],
   "source": [
    "from classifier import *\n",
    "from preprocessing import *\n",
    "from staff_line_removal import *"
   ]
  },
  {
   "cell_type": "code",
   "execution_count": 13,
   "metadata": {},
   "outputs": [
    {
     "name": "stdout",
     "output_type": "stream",
     "text": [
      "contours detected: 86\n"
     ]
    }
   ],
   "source": [
    "# preprocess the image\n",
    "img = cv2.imread('sample.png', 0)\n",
    "binarized = 255 - binarize(img, 'cv_adaptive')\n",
    "io.imsave('binarized.png', binarized)\n",
    "cleaned = staff_removal(img)\n",
    "segmented, symbols = segmentation(cleaned)"
   ]
  },
  {
   "cell_type": "code",
   "execution_count": 3,
   "metadata": {},
   "outputs": [
    {
     "name": "stdout",
     "output_type": "stream",
     "text": [
      "Loading dataset. This will take time ...\n",
      "finished processing:  a_1\n",
      "finished processing:  a_16\n",
      "finished processing:  a_16_flipped\n",
      "finished processing:  a_1_flipped\n",
      "finished processing:  a_2\n",
      "finished processing:  a_2_flipped\n",
      "finished processing:  a_32\n",
      "finished processing:  a_32_flipped\n",
      "finished processing:  a_4\n",
      "finished processing:  a_4_flipped\n",
      "finished processing:  a_8\n",
      "finished processing:  a_8_flipped\n",
      "finished processing:  barline\n",
      "finished processing:  b_16\n",
      "finished processing:  b_8\n",
      "finished processing:  c\n",
      "finished processing:  d\n",
      "finished processing:  dot\n",
      "finished processing:  e\n",
      "finished processing:  f\n",
      "finished processing:  t_4_4\n",
      "finished processing:  z\n",
      "Finished loading dataset.\n"
     ]
    }
   ],
   "source": [
    "print('Loading dataset. This will take time ...')\n",
    "features, labels = load_dataset('hog')\n",
    "print('Finished loading dataset.')\n",
    "\n",
    "train_features, test_features, train_labels, test_labels = train_test_split(\n",
    "    features, labels, test_size=0.2, random_state=random_seed)"
   ]
  },
  {
   "cell_type": "code",
   "execution_count": 4,
   "metadata": {},
   "outputs": [
    {
     "name": "stdout",
     "output_type": "stream",
     "text": [
      "SVM  accuracy: 98.31387808041504 %\n"
     ]
    }
   ],
   "source": [
    "svm = classifiers['SVM']\n",
    "svm.fit(train_features, train_labels)\n",
    "accuracy = svm.score(test_features, test_labels)\n",
    "print('SVM ', 'accuracy:', accuracy*100, '%')"
   ]
  },
  {
   "cell_type": "code",
   "execution_count": 5,
   "metadata": {},
   "outputs": [
    {
     "name": "stdout",
     "output_type": "stream",
     "text": [
      "[0.         0.         0.         ... 0.         0.         0.09540179]\n",
      "['a_4']\n"
     ]
    },
    {
     "data": {
      "image/png": "[encoded data removed]",
      "text/plain": [
       "<Figure size 432x288 with 1 Axes>"
      ]
     },
     "metadata": {
      "needs_background": "light"
     },
     "output_type": "display_data"
    }
   ],
   "source": [
    "img = cv2.imread('lol.png', 0)\n",
    "# binarized = binarize(img, 'cv_adaptive')\n",
    "feature = extract_features(img, 'hog')\n",
    "print(feature)\n",
    "print(svm.predict([feature]))\n",
    "io.imshow(img)\n",
    "io.show()"
   ]
  },
  {
   "cell_type": "code",
   "execution_count": null,
   "metadata": {},
   "outputs": [],
   "source": [
    "def remove_stafflines(img, all_staffline_vertical_indices, line_width):\n",
    "    no_staff_img = deepcopy(img)\n",
    "    for staff in all_staffline_vertical_indices:\n",
    "        for line in staff:\n",
    "            for row in line:\n",
    "                # Remove top and bottom line to be sure\n",
    "                \n",
    "\n",
    "\n",
    "    return no_staff_img"
   ]
  },
  {
   "cell_type": "code",
   "execution_count": 16,
   "metadata": {},
   "outputs": [
    {
     "name": "stdout",
     "output_type": "stream",
     "text": [
      "130.0\n",
      "-0.15924072265625\n",
      "-1000 690 999 691\n"
     ]
    },
    {
     "data": {
      "text/plain": [
       "True"
      ]
     },
     "execution_count": 16,
     "metadata": {},
     "output_type": "execute_result"
    }
   ],
   "source": [
    "img = cv2.imread('mary.jpg', 0)\n",
    "img = cv2.fastNlMeansDenoising(img, None, 10, 7, 21)\n",
    "cv2.imwrite('n_noised_removed.jpg', img)\n",
    "\n",
    "threshold, img = cv2.threshold(img, 0, 255, cv2.THRESH_BINARY+cv2.THRESH_OTSU)\n",
    "cv2.imwrite('n_binarized.jpg', img)\n",
    "print(threshold)\n",
    "\n",
    "angle, output = fix_rotation(img)\n",
    "io.imsave('n_fixed_rotation.jpg', output)\n",
    "print(angle)\n",
    "\n",
    "# line_width, line_spacing = get_ref_lengths(img)\n",
    "# print(\"[INFO] Staff line Width: \", line_width)\n",
    "# print(\"[INFO] Staff line Spacing: \", line_spacing)\n",
    "\n",
    "\n",
    "# all_staffline_vertical_indices = find_staffline_rows(img, line_width, line_spacing)\n",
    "# print(\"[INFO] Found \", len(all_staffline_vertical_indices), \" sets of staff lines\")\n",
    "\n",
    "# all_staffline_horizontal_indices = find_staffline_columns(img, all_staffline_vertical_indices, line_width, line_spacing)\n",
    "# print(\"[INFO] Found all staff line horizontal extremes\")\n",
    "\n",
    "cv2.imwrite('output/before.jpg',img)\n",
    "edges = cv2.Canny(img,50,150,apertureSize = 3)\n",
    "\n",
    "lines = cv2.HoughLines(edges,1,np.pi/180,200)\n",
    "for rho,theta in lines[0]:\n",
    "    a = np.cos(theta)\n",
    "    b = np.sin(theta)\n",
    "    x0 = a*rho\n",
    "    y0 = b*rho\n",
    "    x1 = int(x0 + 1000*(-b))\n",
    "    y1 = int(y0 + 1000*(a))\n",
    "    x2 = int(x0 - 1000*(-b))\n",
    "    y2 = int(y0 - 1000*(a))\n",
    "    print(x1, y1, x2, y2)\n",
    "    cv2.line(img,(x1,y1),(x2,y2),(0,0,255),2)\n",
    "\n",
    "cv2.imwrite('output/after.jpg',img)"
   ]
  },
  {
   "cell_type": "code",
   "execution_count": null,
   "metadata": {},
   "outputs": [],
   "source": [
    "# for symbol in symbols:\n",
    "#     feature = extract_features(symbol, 'hog')\n",
    "#     print(feature)\n",
    "#     print(svm.predict([feature]))\n",
    "#     io.imshow(symbol)\n",
    "#     io.show()"
   ]
  },
  {
   "cell_type": "code",
   "execution_count": 2,
   "metadata": {},
   "outputs": [],
   "source": [
    "def horizontalProjection(bwArray):\n",
    "    rows = len(bwArray)\n",
    "    cols = len(bwArray[0])\n",
    "    pixCount = [0] * rows\n",
    "    for row in range(rows):\n",
    "        for col in range(cols):\n",
    "            if not bwArray[row][col]:\n",
    "                pixCount[row] += 1\n",
    "    return pixCount\n",
    "\n",
    "\n",
    "# finds the rows that have black pixels along most of the picture\n",
    "def getLines(pixArray, picWidth):\n",
    "    lineArray = []\n",
    "    for row in range(len(pixArray)):\n",
    "        if pixArray[row] >= (picWidth * 0.8):  # take only the lines with specific length\n",
    "            lineArray.append(row)  # append the row that the line is found in\n",
    "    return lineArray\n",
    "\n",
    "\n",
    "def findBarLineWidth(lineArray):\n",
    "    lineThicknesses = []\n",
    "    newLineArray = []\n",
    "    i = 0\n",
    "    thickness = 1  # first line is always a barline\n",
    "    while i < len(lineArray) - 1:\n",
    "        if thickness == 1:\n",
    "            newLineArray.append(lineArray[i])\n",
    "\n",
    "        if lineArray[i] + 1 == lineArray[i + 1]:\n",
    "            thickness += 1\n",
    "        else:\n",
    "            lineThicknesses.append(thickness)\n",
    "            thickness = 1\n",
    "        i += 1\n",
    "    lineThicknesses.append(thickness + 1)\n",
    "    if all(val == lineThicknesses[0] for val in lineThicknesses):\n",
    "        return [lineThicknesses[0], newLineArray]\n",
    "    return [lineThicknesses, newLineArray]\n",
    "\n",
    "\n",
    "def findSpacesSize(lineArray, lineThickness):\n",
    "    lineDistances = []\n",
    "    for i in range(len(lineArray) - 1):\n",
    "        print(\"LOL\")\n",
    "        lineDistances.append(lineArray[i + 1] - lineArray[i])\n",
    "    # gets the mode of the array(most common space size)\n",
    "    spacesCount = Counter(lineDistances)\n",
    "    spaceBetweenBars = max(lineDistances)\n",
    "    tempSpaceInfo = spacesCount.most_common(1)  # returns the most frequent distance\n",
    "    commonSize = tempSpaceInfo[0][0]\n",
    "    if commonSize == 1:  # fixing the commonSize\n",
    "        j = 0\n",
    "        while j < len(lineDistances):\n",
    "            if lineDistances[j] != 1:\n",
    "                tempCommon = lineDistances[j]\n",
    "                if lineDistances[j + lineThickness[0]] > (tempCommon - 1) * 0.9 and lineDistances[\n",
    "                    j + lineThickness[0]] < (tempCommon + 1) * 1.1:\n",
    "                    commonSize = tempCommon\n",
    "                    break\n",
    "            j += 1\n",
    "    i = 0\n",
    "    count = 0\n",
    "    spaceSizeArr = []\n",
    "    while i < len(lineDistances):\n",
    "        # space sizes can be inconsistent, so if its within ~10% then its accepted\n",
    "        if (commonSize - 1) * 0.9 < lineDistances[i] < (commonSize + 1) * 1.1:\n",
    "            spaceSizeArr.append(lineDistances[i])\n",
    "            count += 1\n",
    "        else:\n",
    "            if lineDistances[i] != 1:  # if its 1 then its part of the same line so dont reset\n",
    "                count = 0\n",
    "                spaceSizeArr = []\n",
    "        if count == 4:\n",
    "            return [spaceSizeArr, spaceBetweenBars]\n",
    "        i += 1\n",
    "    return []\n",
    "\n",
    "\n",
    "# removes the bar lines from the sheet music\n",
    "def removeBarLines(lineLocations, pixels, barLineWidth, picWidth):\n",
    "    oneLineThickness = (len(barLineWidth) == 1)\n",
    "    lineThickness = barLineWidth[0]\n",
    "    lineNum = 0\n",
    "    lineCounter = 0\n",
    "    while lineNum < len(lineLocations):\n",
    "        if not oneLineThickness:\n",
    "            lineThickness = barLineWidth[lineCounter]\n",
    "        pixels = eraseLine(lineThickness, lineLocations[lineNum], pixels, picWidth)\n",
    "        lineNum += 1\n",
    "        lineCounter += 1\n",
    "    return pixels\n",
    "\n",
    "\n",
    "# removes a single line with given thickness from the sheet music without\n",
    "# effecting any other objects on the sheet\n",
    "def eraseLine(thickness, startLine, image, picWidth):  # doesn't erase line, but make them white\n",
    "    topLine = startLine\n",
    "    botLine = startLine + thickness - 1\n",
    "    for col in range(picWidth):\n",
    "        if image.item(topLine, col) == 0 or image.item(botLine, col) == 0:\n",
    "            if image.item(topLine - 1, col) == 255 and image.item(botLine + 1, col) == 255:\n",
    "                for j in range(thickness):\n",
    "                    image.itemset((topLine + j, col), 255)\n",
    "            elif image.item(topLine - 1, col) == 255 and image.item(botLine + 1, col) == 0:\n",
    "                thick = thickness + 1\n",
    "                if thick < 1:\n",
    "                    thick = 1\n",
    "                for j in range(int(thick)):\n",
    "                    image.itemset((topLine + j, col), 255)\n",
    "\n",
    "            elif image.item(topLine - 1, col) == 0 and image.item(botLine + 1, col) == 255:\n",
    "                thick = thickness + 1\n",
    "                if thick < 1:\n",
    "                    thick = 1\n",
    "                for j in range(int(thick)):\n",
    "                    image.itemset((botLine - j, col), 255)\n",
    "    return image\n",
    "\n",
    "\n",
    "def removeMe(bwImg, lineLocations, barLineWidth):\n",
    "    pixels = np.array(bwImg)  # pixels(row, col)\n",
    "    picWidth = len(np.asarray(bwImg)[0])  # bwImg.size[0]\n",
    "    pixels = removeBarLines(lineLocations, pixels, barLineWidth, picWidth)\n",
    "    return pixels"
   ]
  },
  {
   "cell_type": "code",
   "execution_count": 32,
   "metadata": {},
   "outputs": [],
   "source": [
    "# img = cv2.imread('02.PNG', 0)\n",
    "# img = cv2.fastNlMeansDenoising(img, None, 10, 7, 21)\n",
    "# cv2.imwrite('output/n_noised_removed.PNG', img)\n",
    "\n",
    "# threshold, img = cv2.threshold(img, 0, 255, cv2.THRESH_BINARY+cv2.THRESH_OTSU)\n",
    "# cv2.imwrite('output/n_binarized.PNG', img)\n",
    "\n",
    "# angle, img = fix_rotation(img)\n",
    "# io.imsave('output/n_fixed_rotation.PNG', img)\n",
    "\n",
    "# bwArray = np.array(img)\n",
    "# picWidth = len(bwArray[0])\n",
    "# horzPicCount = horizontalProjection(bwArray)\n",
    "# lineArray = getLines(horzPicCount, picWidth)\n",
    "# lineThickness, newLineArray = findBarLineWidth(lineArray)\n",
    "# lineArray = newLineArray\n",
    "# spaceSize, spaceBetweenBars = findSpacesSize(lineArray, lineThickness)\n",
    "# removed_line_pic = removeMe(row, lineArray, lineThickness)\n",
    "# cv2.imwrite('output/n_staff_line.PNG', removed_line_pic)"
   ]
  },
  {
   "cell_type": "code",
   "execution_count": 30,
   "metadata": {},
   "outputs": [
    {
     "ename": "ValueError",
     "evalue": "max() arg is an empty sequence",
     "output_type": "error",
     "traceback": [
      "\u001b[1;31m---------------------------------------------------------------------------\u001b[0m",
      "\u001b[1;31mValueError\u001b[0m                                Traceback (most recent call last)",
      "\u001b[1;32m<ipython-input-30-c66b1f2f89f4>\u001b[0m in \u001b[0;36m<module>\u001b[1;34m\u001b[0m\n\u001b[0;32m     16\u001b[0m \u001b[0mlineThickness\u001b[0m\u001b[1;33m,\u001b[0m \u001b[0mnewLineArray\u001b[0m \u001b[1;33m=\u001b[0m \u001b[0mfindBarLineWidth\u001b[0m\u001b[1;33m(\u001b[0m\u001b[0mlineArray\u001b[0m\u001b[1;33m)\u001b[0m\u001b[1;33m\u001b[0m\u001b[1;33m\u001b[0m\u001b[0m\n\u001b[0;32m     17\u001b[0m \u001b[0mlineArray\u001b[0m \u001b[1;33m=\u001b[0m \u001b[0mnewLineArray\u001b[0m\u001b[1;33m\u001b[0m\u001b[1;33m\u001b[0m\u001b[0m\n\u001b[1;32m---> 18\u001b[1;33m \u001b[0mspaceSize\u001b[0m\u001b[1;33m,\u001b[0m \u001b[0mspaceBetweenBars\u001b[0m \u001b[1;33m=\u001b[0m \u001b[0mfindSpacesSize\u001b[0m\u001b[1;33m(\u001b[0m\u001b[0mlineArray\u001b[0m\u001b[1;33m,\u001b[0m \u001b[0mlineThickness\u001b[0m\u001b[1;33m)\u001b[0m\u001b[1;33m\u001b[0m\u001b[1;33m\u001b[0m\u001b[0m\n\u001b[0m\u001b[0;32m     19\u001b[0m \u001b[0mremoved_line_pic\u001b[0m \u001b[1;33m=\u001b[0m \u001b[0mremoveMe\u001b[0m\u001b[1;33m(\u001b[0m\u001b[0mimg\u001b[0m\u001b[1;33m,\u001b[0m \u001b[0mlineArray\u001b[0m\u001b[1;33m,\u001b[0m \u001b[0mlineThickness\u001b[0m\u001b[1;33m)\u001b[0m\u001b[1;33m\u001b[0m\u001b[1;33m\u001b[0m\u001b[0m\n\u001b[0;32m     20\u001b[0m \u001b[0mcv2\u001b[0m\u001b[1;33m.\u001b[0m\u001b[0mimwrite\u001b[0m\u001b[1;33m(\u001b[0m\u001b[1;34m'output/n_staff_line.jpg'\u001b[0m\u001b[1;33m,\u001b[0m \u001b[0mremoved_line_pic\u001b[0m\u001b[1;33m)\u001b[0m\u001b[1;33m\u001b[0m\u001b[1;33m\u001b[0m\u001b[0m\n",
      "\u001b[1;32m<ipython-input-2-9bb40b78dc42>\u001b[0m in \u001b[0;36mfindSpacesSize\u001b[1;34m(lineArray, lineThickness)\u001b[0m\n\u001b[0;32m     47\u001b[0m     \u001b[1;31m# gets the mode of the array(most common space size)\u001b[0m\u001b[1;33m\u001b[0m\u001b[1;33m\u001b[0m\u001b[1;33m\u001b[0m\u001b[0m\n\u001b[0;32m     48\u001b[0m     \u001b[0mspacesCount\u001b[0m \u001b[1;33m=\u001b[0m \u001b[0mCounter\u001b[0m\u001b[1;33m(\u001b[0m\u001b[0mlineDistances\u001b[0m\u001b[1;33m)\u001b[0m\u001b[1;33m\u001b[0m\u001b[1;33m\u001b[0m\u001b[0m\n\u001b[1;32m---> 49\u001b[1;33m     \u001b[0mspaceBetweenBars\u001b[0m \u001b[1;33m=\u001b[0m \u001b[0mmax\u001b[0m\u001b[1;33m(\u001b[0m\u001b[0mlineDistances\u001b[0m\u001b[1;33m)\u001b[0m\u001b[1;33m\u001b[0m\u001b[1;33m\u001b[0m\u001b[0m\n\u001b[0m\u001b[0;32m     50\u001b[0m     \u001b[0mtempSpaceInfo\u001b[0m \u001b[1;33m=\u001b[0m \u001b[0mspacesCount\u001b[0m\u001b[1;33m.\u001b[0m\u001b[0mmost_common\u001b[0m\u001b[1;33m(\u001b[0m\u001b[1;36m1\u001b[0m\u001b[1;33m)\u001b[0m  \u001b[1;31m# returns the most frequent distance\u001b[0m\u001b[1;33m\u001b[0m\u001b[1;33m\u001b[0m\u001b[0m\n\u001b[0;32m     51\u001b[0m     \u001b[0mcommonSize\u001b[0m \u001b[1;33m=\u001b[0m \u001b[0mtempSpaceInfo\u001b[0m\u001b[1;33m[\u001b[0m\u001b[1;36m0\u001b[0m\u001b[1;33m]\u001b[0m\u001b[1;33m[\u001b[0m\u001b[1;36m0\u001b[0m\u001b[1;33m]\u001b[0m\u001b[1;33m\u001b[0m\u001b[1;33m\u001b[0m\u001b[0m\n",
      "\u001b[1;31mValueError\u001b[0m: max() arg is an empty sequence"
     ]
    }
   ],
   "source": [
    "img = cv2.imread('mary.jpg', 0)\n",
    "\n",
    "img = cv2.fastNlMeansDenoising(img, None, 10, 7, 21)\n",
    "cv2.imwrite('output/n_noised_removed.jpg', img)\n",
    "\n",
    "threshold, img = cv2.threshold(img, 0, 255, cv2.THRESH_BINARY+cv2.THRESH_OTSU)\n",
    "cv2.imwrite('output/n_binarized.jpg', img)\n",
    "\n",
    "angle, img = fix_rotation(img)\n",
    "io.imsave('output/n_fixed_rotation.jpg', img)\n",
    "\n",
    "bwArray = np.array(img)\n",
    "picWidth = len(bwArray[0])\n",
    "horzPicCount = horizontalProjection(bwArray)\n",
    "lineArray = getLines(horzPicCount, picWidth)\n",
    "lineThickness, newLineArray = findBarLineWidth(lineArray)\n",
    "lineArray = newLineArray\n",
    "spaceSize, spaceBetweenBars = findSpacesSize(lineArray, lineThickness)\n",
    "removed_line_pic = removeMe(img, lineArray, lineThickness)\n",
    "cv2.imwrite('output/n_staff_line.jpg', removed_line_pic)"
   ]
  },
  {
   "cell_type": "code",
   "execution_count": null,
   "metadata": {},
   "outputs": [],
   "source": []
  }
 ],
 "metadata": {
  "kernelspec": {
   "display_name": "Python 3",
   "language": "python",
   "name": "python3"
  },
  "language_info": {
   "codemirror_mode": {
    "name": "ipython",
    "version": 3
   },
   "file_extension": ".py",
   "mimetype": "text/x-python",
   "name": "python",
   "nbconvert_exporter": "python",
   "pygments_lexer": "ipython3",
   "version": "3.8.3"
  }
 },
 "nbformat": 4,
 "nbformat_minor": 4
}
