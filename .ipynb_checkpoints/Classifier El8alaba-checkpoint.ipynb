{
 "cells": [
  {
   "cell_type": "code",
   "execution_count": 1,
   "metadata": {},
   "outputs": [],
   "source": [
    "from classifier import *\n",
    "from preprocessing import *\n",
    "from staff_line_removal import *"
   ]
  },
  {
   "cell_type": "code",
   "execution_count": 34,
   "metadata": {},
   "outputs": [],
   "source": [
    "def segmentation(gray):\n",
    "    symbols = []\n",
    "    original_image = gray.copy()\n",
    "    blurred = cv2.GaussianBlur(gray, (3, 3), 0)\n",
    "    thresh = cv2.threshold(blurred, 160, 255, cv2.THRESH_BINARY_INV)[1]\n",
    "    kernel = cv2.getStructuringElement(cv2.MORPH_RECT, (3,3))\n",
    "    dilate = cv2.dilate(thresh, kernel , iterations=2)\n",
    "\n",
    "    io.imsave('thresh.png', thresh)\n",
    "    io.imsave('dilate.png', dilate)\n",
    "\n",
    "    # Find contours in the image\n",
    "    cnts = cv2.findContours(dilate.copy(), cv2.RETR_TREE, cv2.CHAIN_APPROX_SIMPLE)\n",
    "    cnts = cnts[0] if len(cnts) == 2 else cnts[1]\n",
    "\n",
    "    contours = []\n",
    "\n",
    "    threshold_min_area = 0\n",
    "    threshold_max_area = 3000\n",
    "\n",
    "    for c in cnts:\n",
    "        x,y,w,h = cv2.boundingRect(c)\n",
    "        area = cv2.contourArea(c)\n",
    "        if area > threshold_min_area and area < threshold_max_area:\n",
    "            lol = original_image[y:y+h, x:x+w]\n",
    "            symbols.append(lol)\n",
    "            original_image = cv2.rectangle(original_image, (x,y), (x+w, y+h), (0,255,0),1)\n",
    "            contours.append(c)\n",
    "\n",
    "    print('contours detected: {}'.format(len(contours)))\n",
    "    return original_image, symbols\n",
    "    "
   ]
  },
  {
   "cell_type": "code",
   "execution_count": 36,
   "metadata": {},
   "outputs": [
    {
     "name": "stdout",
     "output_type": "stream",
     "text": [
      "535 253 18 10\n",
      "61 236 15 16\n",
      "488 225 16 34\n",
      "338 221 17 34\n",
      "304 221 17 34\n",
      "271 221 16 34\n",
      "61 220 14 15\n",
      "640 218 12 34\n",
      "455 218 15 34\n",
      "190 218 15 34\n",
      "156 218 16 34\n",
      "123 218 15 34\n",
      "89 218 15 34\n",
      "540 217 8 5\n",
      "525 217 8 35\n",
      "376 217 8 35\n",
      "239 217 15 35\n",
      "227 217 7 35\n",
      "421 214 16 34\n",
      "387 214 16 34\n",
      "32 209 24 55\n",
      "534 177 19 10\n",
      "455 162 16 33\n",
      "488 158 16 33\n",
      "387 154 16 33\n",
      "305 154 16 33\n",
      "272 154 15 33\n",
      "238 154 16 33\n",
      "156 154 16 33\n",
      "122 154 16 33\n",
      "88 154 16 33\n",
      "640 150 12 34\n",
      "525 150 8 34\n",
      "376 150 8 34\n",
      "227 150 7 35\n",
      "61 150 15 32\n",
      "420 146 17 33\n",
      "32 142 24 54\n",
      "60 100 16 14\n",
      "537 90 15 33\n",
      "455 90 15 33\n",
      "421 90 16 33\n",
      "488 86 16 33\n",
      "387 86 16 33\n",
      "338 86 17 33\n",
      "305 86 16 33\n",
      "271 86 16 33\n",
      "640 82 12 35\n",
      "525 82 8 35\n",
      "376 82 8 35\n",
      "239 82 15 34\n",
      "227 82 7 35\n",
      "189 82 16 35\n",
      "156 82 16 34\n",
      "122 82 16 35\n",
      "88 82 16 35\n",
      "61 82 14 17\n",
      "32 73 24 55\n",
      "534 42 19 9\n",
      "62 32 14 17\n",
      "455 26 16 34\n",
      "488 22 16 34\n",
      "387 18 16 33\n",
      "304 18 17 34\n",
      "271 18 16 33\n",
      "238 18 16 33\n",
      "155 18 17 34\n",
      "122 18 16 33\n",
      "88 18 16 33\n",
      "61 15 14 16\n",
      "640 14 12 35\n",
      "525 14 8 35\n",
      "376 14 8 35\n",
      "227 14 7 35\n",
      "14 14 17 238\n",
      "22 131 3 4\n",
      "420 11 17 33\n",
      "32 6 24 54\n",
      "contours detected: 78\n"
     ]
    },
    {
     "ename": "AttributeError",
     "evalue": "'list' object has no attribute 'shape'",
     "output_type": "error",
     "traceback": [
      "\u001b[1;31m---------------------------------------------------------------------------\u001b[0m",
      "\u001b[1;31mAttributeError\u001b[0m                            Traceback (most recent call last)",
      "\u001b[1;32m<ipython-input-36-6c1a0e0255b9>\u001b[0m in \u001b[0;36m<module>\u001b[1;34m\u001b[0m\n\u001b[0;32m      5\u001b[0m \u001b[0mcleaned\u001b[0m \u001b[1;33m=\u001b[0m \u001b[0mstaff_removal\u001b[0m\u001b[1;33m(\u001b[0m\u001b[0mbinarized\u001b[0m\u001b[1;33m)\u001b[0m\u001b[1;33m\u001b[0m\u001b[1;33m\u001b[0m\u001b[0m\n\u001b[0;32m      6\u001b[0m \u001b[0msegmented\u001b[0m\u001b[1;33m,\u001b[0m \u001b[0msymbols\u001b[0m \u001b[1;33m=\u001b[0m \u001b[0msegmentation\u001b[0m\u001b[1;33m(\u001b[0m\u001b[0mcleaned\u001b[0m\u001b[1;33m)\u001b[0m\u001b[1;33m\u001b[0m\u001b[1;33m\u001b[0m\u001b[0m\n\u001b[1;32m----> 7\u001b[1;33m \u001b[0mprint\u001b[0m\u001b[1;33m(\u001b[0m\u001b[0msymbols\u001b[0m\u001b[1;33m.\u001b[0m\u001b[0mshape\u001b[0m\u001b[1;33m)\u001b[0m\u001b[1;33m\u001b[0m\u001b[1;33m\u001b[0m\u001b[0m\n\u001b[0m",
      "\u001b[1;31mAttributeError\u001b[0m: 'list' object has no attribute 'shape'"
     ]
    }
   ],
   "source": [
    "# preprocess the image\n",
    "img = cv2.imread('sample.png', 0)\n",
    "binarized = 255 - binarize(img, 'cv_adaptive')\n",
    "io.imsave('binarized.png', binarized)\n",
    "cleaned = staff_removal(binarized)\n",
    "segmented, symbols = segmentation(cleaned)\n",
    "print(symbols.shape)"
   ]
  },
  {
   "cell_type": "code",
   "execution_count": null,
   "metadata": {},
   "outputs": [],
   "source": [
    "# random_seed = 42  \n",
    "# random.seed(random_seed)\n",
    "# target_img_size = (32, 32)\n",
    "# np.random.seed(random_seed)\n",
    "\n",
    "# classifiers = {\n",
    "#     'SVM': svm.LinearSVC(random_state=random_seed),\n",
    "#     'KNN': KNeighborsClassifier(n_neighbors=7),\n",
    "#     'NN': MLPClassifier(solver='sgd', random_state=random_seed, hidden_layer_sizes=(500,), max_iter=20, verbose=1)\n",
    "# }"
   ]
  },
  {
   "cell_type": "code",
   "execution_count": null,
   "metadata": {},
   "outputs": [],
   "source": [
    "# print('Loading dataset. This will take time ...')\n",
    "# features, labels = load_dataset('hog')\n",
    "# print('Finished loading dataset.')\n",
    "\n",
    "# train_features, test_features, train_labels, test_labels = train_test_split(\n",
    "#     features, labels, test_size=0.2, random_state=random_seed)"
   ]
  },
  {
   "cell_type": "code",
   "execution_count": null,
   "metadata": {},
   "outputs": [],
   "source": [
    "# svm = classifiers['SVM']\n",
    "# svm.fit(train_features, train_labels)\n",
    "# accuracy = svm.score(test_features, test_labels)\n",
    "# print('SVM ', 'accuracy:', accuracy*100, '%')"
   ]
  }
 ],
 "metadata": {
  "kernelspec": {
   "display_name": "Python 3",
   "language": "python",
   "name": "python3"
  },
  "language_info": {
   "codemirror_mode": {
    "name": "ipython",
    "version": 3
   },
   "file_extension": ".py",
   "mimetype": "text/x-python",
   "name": "python",
   "nbconvert_exporter": "python",
   "pygments_lexer": "ipython3",
   "version": "3.8.3"
  }
 },
 "nbformat": 4,
 "nbformat_minor": 4
}
