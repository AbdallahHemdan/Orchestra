{
 "cells": [
  {
   "cell_type": "code",
   "execution_count": 1,
   "metadata": {},
   "outputs": [],
   "source": [
    "from classifier import *\n",
    "from preprocessing import *\n",
    "from staff_removal import *"
   ]
  },
  {
   "cell_type": "code",
   "execution_count": 2,
   "metadata": {},
   "outputs": [],
   "source": [
    "# Get paths of scaned and captured test cases #\n",
    "scaned_path = './test-cases/test-set-scanned/scanned'\n",
    "captured_path = './test-cases/test-set-camera-captured/captured'\n",
    "\n",
    "img_filenames = os.listdir(scaned_path)\n",
    "for i, fn in enumerate(img_filenames):\n",
    "    test_number = fn.split('.')[0]"
   ]
  },
  {
   "cell_type": "code",
   "execution_count": 3,
   "metadata": {},
   "outputs": [],
   "source": [
    "def preprocess_img():\n",
    "    # 1. Read desired image #\n",
    "    img = cv2.imread('02.png', 0)\n",
    "    \n",
    "    # 2. Remove noise (odd pixels) from the image and save it #\n",
    "    img = cv2.fastNlMeansDenoising(img, None, 10, 7, 21)\n",
    "    cv2.imwrite('testing-output/1. noise_removed.png', img)\n",
    "\n",
    "    # 3. Binarize image using combination of (global + otsu) thresholding and save it #\n",
    "    threshold, img = cv2.threshold(img, 0, 255, cv2.THRESH_BINARY+cv2.THRESH_OTSU)\n",
    "    cv2.imwrite('testing-output/2. binarized.png', img)\n",
    "\n",
    "    # 4. Fix image rotation and save it #\n",
    "    angle, img = fix_rotation(img)\n",
    "    cv2.imwrite('testing-output/3. rotation_fixed.png', img)\n",
    "    \n",
    "    # 5. Return image shape (width, height) and processed image # \n",
    "    n, m = img.shape\n",
    "    return n, m, img"
   ]
  },
  {
   "cell_type": "code",
   "execution_count": 8,
   "metadata": {},
   "outputs": [
    {
     "name": "stdout",
     "output_type": "stream",
     "text": [
      "staff_lines:  [41, 116, 218, 237, 256, 275, 294, 403, 422, 441, 460]\n",
      "staff_lines_thicknesses:  [2, 2, 2, 2, 2, 2, 2, 2, 2, 2, 2]\n"
     ]
    },
    {
     "data": {
      "text/plain": [
       "True"
      ]
     },
     "execution_count": 8,
     "metadata": {},
     "output_type": "execute_result"
    }
   ],
   "source": [
    "# Threshold for line to be considered as an initial staff line #\n",
    "threshold = 0.8\n",
    "\n",
    "# Get image and its dimensions#\n",
    "width, height, in_img = preprocess_img()\n",
    "\n",
    "# Get line thinkness and list of staff lines #\n",
    "staff_lines_thicknesses, staff_lines = get_staff_lines(width, height, in_img, threshold)\n",
    "\n",
    "print('staff_lines: ', staff_lines)\n",
    "print('staff_lines_thicknesses: ', staff_lines_thicknesses)\n",
    "\n",
    "# Remove staff lines from original image #\n",
    "cleaned = remove_staff_lines(in_img, height, staff_lines, staff_lines_thicknesses)\n",
    "cv2.imwrite('testing-output/4. cleaned.png', cleaned)"
   ]
  }
 ],
 "metadata": {
  "kernelspec": {
   "display_name": "Python 3",
   "language": "python",
   "name": "python3"
  },
  "language_info": {
   "codemirror_mode": {
    "name": "ipython",
    "version": 3
   },
   "file_extension": ".py",
   "mimetype": "text/x-python",
   "name": "python",
   "nbconvert_exporter": "python",
   "pygments_lexer": "ipython3",
   "version": "3.8.3"
  }
 },
 "nbformat": 4,
 "nbformat_minor": 4
}
