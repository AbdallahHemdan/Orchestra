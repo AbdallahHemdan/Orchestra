{
 "cells": [
  {
   "cell_type": "code",
   "execution_count": 1,
   "metadata": {},
   "outputs": [],
   "source": [
    "from classifier import *\n",
    "from preprocessing import *\n",
    "from staff_removal import *"
   ]
  },
  {
   "cell_type": "code",
   "execution_count": 2,
   "metadata": {},
   "outputs": [],
   "source": [
    "# Get paths of scaned and captured test cases #\n",
    "scanned_path = './test-cases/test-set-scanned/scanned'\n",
    "captured_path = './test-cases/test-set-camera-captured/captured'\n",
    "\n",
    "img_filenames = os.listdir(scanned_path)\n",
    "for i, fn in enumerate(img_filenames):\n",
    "    test_number = fn.split('.')[0]"
   ]
  },
  {
   "cell_type": "code",
   "execution_count": 3,
   "metadata": {},
   "outputs": [],
   "source": [
    "def preprocess_img(img_path, output_path):\n",
    "    # 1. Read desired image #\n",
    "    img = cv2.imread(img_path, 0)\n",
    "    \n",
    "    # 2. Remove noise (odd pixels) from the image and save it #\n",
    "    img = cv2.fastNlMeansDenoising(img, None, 10, 7, 21)\n",
    "    cv2.imwrite('testing-output/{}/1. noise_removed.png'.format(output_path), img)\n",
    "\n",
    "    # 3. Binarize image using combination of (global + otsu) thresholding and save it #\n",
    "    threshold, img = cv2.threshold(img, 0, 255, cv2.THRESH_BINARY+cv2.THRESH_OTSU)\n",
    "    cv2.imwrite('testing-output/{}/2. binarized.png'.format(output_path), img)\n",
    "\n",
    "    # 4. Return image shape (width, height) and processed image # \n",
    "    n, m = img.shape\n",
    "    return n, m, img"
   ]
  },
  {
   "cell_type": "code",
   "execution_count": 4,
   "metadata": {},
   "outputs": [
    {
     "name": "stdout",
     "output_type": "stream",
     "text": [
      "test image 01\n",
      "staff_lines:  [46, 68, 90, 112, 135]\n",
      "staff_lines_thicknesses:  [1, 2, 2, 2, 1]\n",
      "\n",
      "test image 02\n",
      "staff_lines:  [41, 60, 79, 98, 116, 218, 237, 256, 275, 294, 385, 403, 422, 441, 460]\n",
      "staff_lines_thicknesses:  [2, 1, 1, 1, 2, 2, 2, 2, 2, 2, 1, 2, 2, 2, 2]\n",
      "\n",
      "test image 03\n",
      "staff_lines:  [56, 88, 120, 152, 184]\n",
      "staff_lines_thicknesses:  [3, 3, 3, 2, 2]\n",
      "\n",
      "test image 04\n",
      "staff_lines:  [60, 80, 100, 120, 141]\n",
      "staff_lines_thicknesses:  [1, 2, 2, 2, 1]\n",
      "\n",
      "test image 05\n",
      "staff_lines:  [64, 101, 138, 175, 212]\n",
      "staff_lines_thicknesses:  [3, 3, 3, 3, 3]\n",
      "\n",
      "test image 06\n",
      "staff_lines:  [68, 111, 154, 197, 241]\n",
      "staff_lines_thicknesses:  [3, 4, 4, 4, 3]\n",
      "\n",
      "test image 07\n",
      "staff_lines:  [78, 133, 187, 241, 296]\n",
      "staff_lines_thicknesses:  [5, 4, 4, 5, 4]\n",
      "\n",
      "test image 08\n",
      "staff_lines:  [91, 140, 189, 238, 286]\n",
      "staff_lines_thicknesses:  [4, 4, 4, 3, 4]\n",
      "\n",
      "test image 09\n",
      "staff_lines:  [75, 118, 160, 202, 245]\n",
      "staff_lines_thicknesses:  [4, 3, 3, 4, 3]\n",
      "\n",
      "test image 10\n",
      "staff_lines:  [72, 129, 187, 245, 302]\n",
      "staff_lines_thicknesses:  [4, 5, 5, 4, 5]\n",
      "\n",
      "test image 11\n",
      "staff_lines:  [104, 125, 147, 168, 189, 431, 453, 474, 495, 517, 760, 781, 802, 824, 845]\n",
      "staff_lines_thicknesses:  [2, 2, 2, 2, 2, 2, 2, 2, 2, 2, 2, 2, 2, 2, 2]\n",
      "\n"
     ]
    }
   ],
   "source": [
    "# Threshold for line to be considered as an initial staff line #\n",
    "threshold = 0.8\n",
    "\n",
    "for i in ['01', '02', '03', '04', '05', '06', '07', '08', '09', '10', '11']:\n",
    "    try: \n",
    "        os.mkdir('testing-output/{}'.format(i)) \n",
    "    except OSError as error: \n",
    "        pass\n",
    "\n",
    "    # Get image and its dimensions#\n",
    "    height, width, in_img = preprocess_img('{}/{}.png'.format(scanned_path, i), '{}'.format(i))\n",
    "\n",
    "    # Get line thinkness and list of staff lines #\n",
    "    staff_lines_thicknesses, staff_lines = get_staff_lines(width, height, in_img, threshold)\n",
    "\n",
    "    print('test image {}'.format(i))\n",
    "    print('staff_lines: ', staff_lines)\n",
    "    print('staff_lines_thicknesses: ', staff_lines_thicknesses)\n",
    "\n",
    "    # Remove staff lines from original image #\n",
    "    cleaned = remove_staff_lines(in_img, width, staff_lines, staff_lines_thicknesses)\n",
    "    cv2.imwrite('testing-output/{}/3. cleaned.png'.format(i), cleaned)\n",
    "    print()"
   ]
  }
 ],
 "metadata": {
  "kernelspec": {
   "display_name": "Python 3",
   "language": "python",
   "name": "python3"
  },
  "language_info": {
   "codemirror_mode": {
    "name": "ipython",
    "version": 3
   },
   "file_extension": ".py",
   "mimetype": "text/x-python",
   "name": "python",
   "nbconvert_exporter": "python",
   "pygments_lexer": "ipython3",
   "version": "3.8.3"
  }
 },
 "nbformat": 4,
 "nbformat_minor": 4
}
